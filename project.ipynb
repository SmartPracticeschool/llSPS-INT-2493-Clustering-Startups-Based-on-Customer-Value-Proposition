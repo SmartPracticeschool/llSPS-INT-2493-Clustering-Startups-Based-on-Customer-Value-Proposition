{
 "cells": [
  {
   "cell_type": "code",
   "execution_count": 3,
   "metadata": {},
   "outputs": [],
   "source": [
    "from keras.models import Sequential\n",
    "from keras.layers import Dense\n",
    "from keras.layers import Convolution2D\n",
    "from keras.layers import MaxPooling2D\n",
    "from keras.layers import Flatten"
   ]
  },
  {
   "cell_type": "code",
   "execution_count": 4,
   "metadata": {},
   "outputs": [],
   "source": [
    "model=Sequential()"
   ]
  },
  {
   "cell_type": "code",
   "execution_count": 5,
   "metadata": {},
   "outputs": [],
   "source": [
    "model.add(Convolution2D(48,(3,3),input_shape=(64,64,3),activation=\"relu\"))"
   ]
  },
  {
   "cell_type": "code",
   "execution_count": 6,
   "metadata": {},
   "outputs": [
    {
     "name": "stdout",
     "output_type": "stream",
     "text": [
      "WARNING:tensorflow:From C:\\Users\\saira\\Newfolder\\lib\\site-packages\\keras\\backend\\tensorflow_backend.py:4070: The name tf.nn.max_pool is deprecated. Please use tf.nn.max_pool2d instead.\n",
      "\n"
     ]
    }
   ],
   "source": [
    "model.add(MaxPooling2D(pool_size=(2,2)))"
   ]
  },
  {
   "cell_type": "code",
   "execution_count": 7,
   "metadata": {},
   "outputs": [],
   "source": [
    "model.add(Flatten())"
   ]
  },
  {
   "cell_type": "code",
   "execution_count": 8,
   "metadata": {},
   "outputs": [],
   "source": [
    "model.add(Dense(kernel_initializer=\"random_uniform\",activation=\"relu\",units=150))"
   ]
  },
  {
   "cell_type": "code",
   "execution_count": 9,
   "metadata": {},
   "outputs": [],
   "source": [
    "model.add(Dense(kernel_initializer=\"random_uniform\",activation=\"softmax\",units=5))"
   ]
  },
  {
   "cell_type": "code",
   "execution_count": 10,
   "metadata": {},
   "outputs": [],
   "source": [
    "model.compile(loss=\"categorical_crossentropy\",optimizer=\"adam\",metrics=[\"accuracy\"])"
   ]
  },
  {
   "cell_type": "code",
   "execution_count": 11,
   "metadata": {},
   "outputs": [],
   "source": [
    "from keras.preprocessing.image import ImageDataGenerator"
   ]
  },
  {
   "cell_type": "code",
   "execution_count": 12,
   "metadata": {},
   "outputs": [],
   "source": [
    "train_datagen=ImageDataGenerator(rescale=1./255,shear_range=0.2,zoom_range=0.2,horizontal_flip=True)\n",
    "test_datagen= ImageDataGenerator(rescale=1./255)"
   ]
  },
  {
   "cell_type": "code",
   "execution_count": 13,
   "metadata": {},
   "outputs": [
    {
     "name": "stdout",
     "output_type": "stream",
     "text": [
      "Found 2600 images belonging to 5 classes.\n",
      "Found 650 images belonging to 5 classes.\n"
     ]
    }
   ],
   "source": [
    "x_train = train_datagen.flow_from_directory(r'C:\\Users\\saira\\Downloads\\ECG_Arrhythmia_Dataset\\ECG_Datasets\\Training_dataset',target_size = (64, 64),batch_size = 32,class_mode = 'categorical')\n",
    "x_test = test_datagen.flow_from_directory(r'C:\\Users\\saira\\Downloads\\ECG_Arrhythmia_Dataset\\ECG_Datasets\\Test_dataset',target_size = (64, 64),batch_size = 32,class_mode = 'categorical')"
   ]
  },
  {
   "cell_type": "code",
   "execution_count": 14,
   "metadata": {},
   "outputs": [
    {
     "data": {
      "text/plain": [
       "{'Fusion_beat': 0,\n",
       " 'Normal_beat': 1,\n",
       " 'Supraventricular_ectopic_beat': 2,\n",
       " 'Unknown_beat': 3,\n",
       " 'Ventricular_ectopic_beat': 4}"
      ]
     },
     "execution_count": 14,
     "metadata": {},
     "output_type": "execute_result"
    }
   ],
   "source": [
    "x_train.class_indices"
   ]
  },
  {
   "cell_type": "code",
   "execution_count": 15,
   "metadata": {},
   "outputs": [
    {
     "name": "stdout",
     "output_type": "stream",
     "text": [
      "WARNING:tensorflow:From C:\\Users\\saira\\Newfolder\\lib\\site-packages\\keras\\backend\\tensorflow_backend.py:422: The name tf.global_variables is deprecated. Please use tf.compat.v1.global_variables instead.\n",
      "\n",
      "Epoch 1/12\n",
      "500/500 [==============================] - 97s 194ms/step - loss: 1.2367 - accuracy: 0.4719 - val_loss: 1.5642 - val_accuracy: 0.3138\n",
      "Epoch 2/12\n",
      "500/500 [==============================] - 93s 187ms/step - loss: 0.5245 - accuracy: 0.8158 - val_loss: 2.4804 - val_accuracy: 0.4323\n",
      "Epoch 3/12\n",
      "500/500 [==============================] - 96s 193ms/step - loss: 0.3882 - accuracy: 0.8670 - val_loss: 2.6552 - val_accuracy: 0.4154\n",
      "Epoch 4/12\n",
      "500/500 [==============================] - 93s 187ms/step - loss: 0.3318 - accuracy: 0.8909 - val_loss: 5.9044 - val_accuracy: 0.4062\n",
      "Epoch 5/12\n",
      "500/500 [==============================] - 92s 185ms/step - loss: 0.2761 - accuracy: 0.9071 - val_loss: 2.7596 - val_accuracy: 0.4831\n",
      "Epoch 6/12\n",
      "500/500 [==============================] - 93s 186ms/step - loss: 0.2392 - accuracy: 0.9194 - val_loss: 2.4620 - val_accuracy: 0.4677\n",
      "Epoch 7/12\n",
      "500/500 [==============================] - 93s 185ms/step - loss: 0.2134 - accuracy: 0.9306 - val_loss: 4.9629 - val_accuracy: 0.4169\n",
      "Epoch 8/12\n",
      "500/500 [==============================] - 92s 184ms/step - loss: 0.1938 - accuracy: 0.9357 - val_loss: 5.7828 - val_accuracy: 0.4123\n",
      "Epoch 9/12\n",
      "500/500 [==============================] - 93s 186ms/step - loss: 0.1624 - accuracy: 0.9461 - val_loss: 5.8485 - val_accuracy: 0.4308\n",
      "Epoch 10/12\n",
      "500/500 [==============================] - 93s 186ms/step - loss: 0.1421 - accuracy: 0.9529 - val_loss: 1.2980 - val_accuracy: 0.4062\n",
      "Epoch 11/12\n",
      "500/500 [==============================] - 93s 186ms/step - loss: 0.1243 - accuracy: 0.9585 - val_loss: 5.1471 - val_accuracy: 0.4200\n",
      "Epoch 12/12\n",
      "500/500 [==============================] - 94s 189ms/step - loss: 0.1089 - accuracy: 0.9641 - val_loss: 5.7106 - val_accuracy: 0.4323\n"
     ]
    },
    {
     "data": {
      "text/plain": [
       "<keras.callbacks.callbacks.History at 0x1e0f7608f88>"
      ]
     },
     "execution_count": 15,
     "metadata": {},
     "output_type": "execute_result"
    }
   ],
   "source": [
    "model.fit_generator(x_train, steps_per_epoch=500, epochs=12,validation_data=x_test)"
   ]
  },
  {
   "cell_type": "code",
   "execution_count": 16,
   "metadata": {},
   "outputs": [],
   "source": [
    "model.save('ECG.h5')"
   ]
  },
  {
   "cell_type": "code",
   "execution_count": 17,
   "metadata": {},
   "outputs": [],
   "source": [
    "from tensorflow.keras.models import load_model\n",
    "import numpy as np"
   ]
  },
  {
   "cell_type": "code",
   "execution_count": 18,
   "metadata": {},
   "outputs": [
    {
     "name": "stdout",
     "output_type": "stream",
     "text": [
      "WARNING:tensorflow:From C:\\Users\\saira\\Newfolder\\lib\\site-packages\\tensorflow\\python\\keras\\initializers.py:119: calling RandomUniform.__init__ (from tensorflow.python.ops.init_ops) with dtype is deprecated and will be removed in a future version.\n",
      "Instructions for updating:\n",
      "Call initializer instance with the dtype argument instead of passing it to the constructor\n"
     ]
    }
   ],
   "source": [
    "model = load_model('ECG.h5')\n",
    "model.compile(loss='categorical_crossentropy',optimizer='adam',metrics=['accuracy'])\n",
    "\n",
    "from skimage.transform import resize\n",
    "\n",
    "def detect(frame):\n",
    "    try:\n",
    "        beat_type=['Fusion beat','Normal beat','Supraventricular ectopic beat','unknown beat','Ventricular ectopic beat']\n",
    "        img = resize(frame,(64,64))\n",
    "        img = np.expand_dims(img,axis=0)\n",
    "        if(np.max(img)>1):\n",
    "            img = img/255.0\n",
    "        prediction = model.predict(img)\n",
    "        print(prediction)\n",
    "        prediction = model.predict_classes(img)\n",
    "        print(beat_type[prediction[0]])\n",
    "    except AttributeError:\n",
    "        print(\"shape not found\")"
   ]
  },
  {
   "cell_type": "code",
   "execution_count": 19,
   "metadata": {},
   "outputs": [],
   "source": [
    "import cv2\n",
    "path=r'C:\\Users\\saira\\Downloads\\ECG_Arrhythmia_Dataset\\ECG_Datasets\\Training_dataset\\Normal_beat\\fig_1.png'\n"
   ]
  },
  {
   "cell_type": "code",
   "execution_count": 20,
   "metadata": {},
   "outputs": [
    {
     "name": "stdout",
     "output_type": "stream",
     "text": [
      "[[2.5920290e-04 9.8288745e-01 1.6719677e-02 1.0394892e-04 2.9789364e-05]]\n",
      "Normal beat\n"
     ]
    }
   ],
   "source": [
    "frame=cv2.imread(r'C:\\Users\\saira\\Downloads\\ECG_Arrhythmia_Dataset\\ECG_Datasets\\Training_dataset\\Normal_beat\\fig_1.png')\n",
    "data=detect(frame)"
   ]
  },
  {
   "cell_type": "code",
   "execution_count": 21,
   "metadata": {},
   "outputs": [],
   "source": [
    "path=r'C:\\Users\\saira\\Downloads\\ECG_Arrhythmia_Dataset\\ECG_Datasets\\Training_dataset\\Fusion_beat\\Ffig_1.png'"
   ]
  },
  {
   "cell_type": "code",
   "execution_count": 22,
   "metadata": {},
   "outputs": [
    {
     "name": "stdout",
     "output_type": "stream",
     "text": [
      "[[7.9585475e-01 1.3475311e-03 1.8954007e-01 4.0622701e-05 1.3217189e-02]]\n",
      "Fusion beat\n"
     ]
    }
   ],
   "source": [
    "frame=cv2.imread(path)\n",
    "data=detect(frame)"
   ]
  },
  {
   "cell_type": "code",
   "execution_count": 23,
   "metadata": {},
   "outputs": [
    {
     "name": "stdout",
     "output_type": "stream",
     "text": [
      "[[9.483532e-04 8.948591e-06 8.470675e-06 9.990281e-01 6.240168e-06]]\n",
      "unknown beat\n"
     ]
    }
   ],
   "source": [
    "path=r'C:\\Users\\saira\\OneDrive\\Desktop\\intership\\ECG_Datasets\\Training_dataset\\Unknown_beat\\ffig_31200001.png'\n",
    "data=detect(cv2.imread(path))"
   ]
  },
  {
   "cell_type": "code",
   "execution_count": 24,
   "metadata": {},
   "outputs": [
    {
     "name": "stdout",
     "output_type": "stream",
     "text": [
      "[[1.5961865e-02 2.8765868e-07 3.3806398e-04 9.8355973e-01 1.4001576e-04]]\n",
      "unknown beat\n"
     ]
    }
   ],
   "source": [
    "path=r'C:\\Users\\saira\\OneDrive\\Desktop\\intership\\ECG_Datasets\\Training_dataset\\Unknown_beat\\ffig_31200011.png'\n",
    "data=detect(cv2.imread(path))"
   ]
  },
  {
   "cell_type": "code",
   "execution_count": 25,
   "metadata": {},
   "outputs": [
    {
     "name": "stdout",
     "output_type": "stream",
     "text": [
      "[[7.4343063e-02 1.1580101e-06 6.8185655e-05 4.1961681e-02 8.8362592e-01]]\n",
      "Ventricular ectopic beat\n"
     ]
    }
   ],
   "source": [
    "path=r'C:\\Users\\saira\\OneDrive\\Desktop\\intership\\ECG_Datasets\\Training_dataset\\Ventricular_ectopic_beat\\Efig_93.png'\n",
    "data=detect(cv2.imread(path))"
   ]
  },
  {
   "cell_type": "code",
   "execution_count": 26,
   "metadata": {},
   "outputs": [
    {
     "name": "stdout",
     "output_type": "stream",
     "text": [
      "[[1.2474335e-03 8.2573379e-08 9.7128350e-06 1.4671840e-03 9.9727565e-01]]\n",
      "Ventricular ectopic beat\n"
     ]
    }
   ],
   "source": [
    "path=r'C:\\Users\\saira\\OneDrive\\Desktop\\intership\\ECG_Datasets\\Training_dataset\\Ventricular_ectopic_beat\\Efig_105.png'\n",
    "data=detect(cv2.imread(path))"
   ]
  },
  {
   "cell_type": "code",
   "execution_count": 27,
   "metadata": {},
   "outputs": [
    {
     "name": "stdout",
     "output_type": "stream",
     "text": [
      "[[0.01292053 0.29561824 0.64665234 0.04238842 0.00242052]]\n",
      "Supraventricular ectopic beat\n"
     ]
    }
   ],
   "source": [
    "path=r'C:\\Users\\saira\\OneDrive\\Desktop\\intership\\ECG_Datasets\\Training_dataset\\Supraventricular_ectopic_beat\\Afig_5.png'\n",
    "data=detect(cv2.imread(path))"
   ]
  },
  {
   "cell_type": "code",
   "execution_count": 28,
   "metadata": {},
   "outputs": [
    {
     "name": "stdout",
     "output_type": "stream",
     "text": [
      "[[7.2256086e-04 9.6688461e-01 3.2331437e-02 4.7431797e-05 1.3776440e-05]]\n",
      "Normal beat\n"
     ]
    }
   ],
   "source": [
    "path=r'C:\\Users\\saira\\OneDrive\\Desktop\\intership\\ECG_Datasets\\Training_dataset\\Supraventricular_ectopic_beat\\Afig_1.png'\n",
    "data=detect(cv2.imread(path))"
   ]
  },
  {
   "cell_type": "code",
   "execution_count": 29,
   "metadata": {},
   "outputs": [
    {
     "name": "stdout",
     "output_type": "stream",
     "text": [
      "[[9.9727136e-01 9.6040537e-07 2.3151191e-04 3.3852405e-06 2.4928930e-03]]\n",
      "Fusion beat\n"
     ]
    }
   ],
   "source": [
    "path=r'C:\\Users\\saira\\OneDrive\\Desktop\\intership\\ECG_Datasets\\Test_dataset\\Fusion_beat\\Ffig_652.png'\n",
    "data=detect(cv2.imread(path))"
   ]
  },
  {
   "cell_type": "code",
   "execution_count": null,
   "metadata": {},
   "outputs": [],
   "source": []
  },
  {
   "cell_type": "code",
   "execution_count": null,
   "metadata": {},
   "outputs": [],
   "source": []
  }
 ],
 "metadata": {
  "kernelspec": {
   "display_name": "Python 3",
   "language": "python",
   "name": "python3"
  },
  "language_info": {
   "codemirror_mode": {
    "name": "ipython",
    "version": 3
   },
   "file_extension": ".py",
   "mimetype": "text/x-python",
   "name": "python",
   "nbconvert_exporter": "python",
   "pygments_lexer": "ipython3",
   "version": "3.7.6"
  }
 },
 "nbformat": 4,
 "nbformat_minor": 4
}
